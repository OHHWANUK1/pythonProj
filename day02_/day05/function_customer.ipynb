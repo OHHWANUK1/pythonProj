{
 "cells": [
  {
   "cell_type": "code",
   "execution_count": 1,
   "id": "af7d34bf-9187-4ae1-a758-eed6bc4e84ba",
   "metadata": {},
   "outputs": [],
   "source": [
    "import re\n",
    "def customer_input():\n",
    "    pass\n",
    "def customer_c():\n",
    "    pass\n",
    "def customer_p():\n",
    "    pass\n",
    "def customer_n():\n",
    "    pass\n",
    "def customer_update():\n",
    "    pass\n",
    "def customer_delete():\n",
    "    pass"
   ]
  },
  {
   "cell_type": "code",
   "execution_count": null,
   "id": "7093fb8d-77e1-4906-8404-7b002ccc63bd",
   "metadata": {},
   "outputs": [],
   "source": []
  }
 ],
 "metadata": {
  "kernelspec": {
   "display_name": "Python 3 (ipykernel)",
   "language": "python",
   "name": "python3"
  },
  "language_info": {
   "codemirror_mode": {
    "name": "ipython",
    "version": 3
   },
   "file_extension": ".py",
   "mimetype": "text/x-python",
   "name": "python",
   "nbconvert_exporter": "python",
   "pygments_lexer": "ipython3",
   "version": "3.9.7"
  }
 },
 "nbformat": 4,
 "nbformat_minor": 5
}

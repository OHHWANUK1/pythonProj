{
 "cells": [
  {
   "cell_type": "raw",
   "id": "13e0d0af-1a6c-45df-a0a9-1ad959a77994",
   "metadata": {},
   "source": [
    "quiz 01>\n",
    "주민등록번호 14자리를 입력받아서 성별을 체크합니다.\n",
    "프로그램 종료는 (q,Q)를 누를때 까지 반복 처리합니다.\n",
    "\n",
    "예)123456-1234567\n",
    "조건처리: *길이값 체크\n",
    "         *성별 체크(기능값:1,2,3,4)\n",
    "출력 : 여성입니다. or 남성입니다.         "
   ]
  },
  {
   "cell_type": "code",
   "execution_count": 1,
   "id": "11b167a0-9837-4cc4-9076-b010f00ded88",
   "metadata": {},
   "outputs": [
    {
     "name": "stdin",
     "output_type": "stream",
     "text": [
      "주민등록번호 입력(14자리,종료:q,Q) >>> q\n"
     ]
    },
    {
     "name": "stdout",
     "output_type": "stream",
     "text": [
      "프로그램 종료\n"
     ]
    }
   ],
   "source": [
    "while True:\n",
    "    invalue = input('주민등록번호 입력(14자리,종료:q,Q) >>>')\n",
    "    if len(invalue) == 1 and invalue.lower() == 'q':\n",
    "        print('프로그램 종료')\n",
    "        break\n",
    "    elif len(invalue) == 14 and invalue[6] == '-' and invalue[7] in ['1','2','3','4,']:\n",
    "        if invalue[7] in ['1','3']:\n",
    "            print('남성입니다')\n",
    "        else:\n",
    "            print('여성입니다')\n",
    "    else:\n",
    "        print('입력 문자의 길이가 안맞거나, 성별값의 범위가 아닙니다.')"
   ]
  },
  {
   "cell_type": "code",
   "execution_count": 2,
   "id": "2f0f821d-18c7-4e08-b243-3d9a60f7c499",
   "metadata": {},
   "outputs": [
    {
     "name": "stdin",
     "output_type": "stream",
     "text": [
      "주민등록번호 입력(14자리,종료:q,Q) >>> q\n"
     ]
    },
    {
     "name": "stdout",
     "output_type": "stream",
     "text": [
      "프로그램 종료\n"
     ]
    }
   ],
   "source": [
    "while True:\n",
    "    invalue = input('주민등록번호 입력(14자리,종료:q,Q) >>>')\n",
    "    if len(invalue) == 1 and invalue.lower() == 'q':\n",
    "        print('프로그램 종료')\n",
    "        break\n",
    "    elif len(invalue) == 14 and invalue[6] == '-' and invalue[7] in ['1','2','3','4',]:\n",
    "        if invalue[7] in ['1','3']:\n",
    "            print('남성입니다')\n",
    "        else:\n",
    "            print('여성입니다')\n",
    "    else:\n",
    "        print('입력 문자의 길이가 안맞거나, 성별값의 범위가 아닙니다.')"
   ]
  },
  {
   "cell_type": "code",
   "execution_count": 3,
   "id": "ed40a43d-812d-48c5-a9c8-f17bb8361216",
   "metadata": {},
   "outputs": [
    {
     "name": "stdin",
     "output_type": "stream",
     "text": [
      "주민등록번호 입력(14자리,종료:q,Q) >>> q\n"
     ]
    },
    {
     "name": "stdout",
     "output_type": "stream",
     "text": [
      "프로그램 종료\n"
     ]
    }
   ],
   "source": [
    "while True:\n",
    "    invalue = input('주민등록번호 입력(14자리,종료:q,Q) >>>')\n",
    "    if len(invalue) == 1 and invalue.lower() == 'q':\n",
    "        print('프로그램 종료')\n",
    "        break\n",
    "    elif len(invalue) == 14 and invalue[6] == '-' and invalue[7] in ['1','2','3','4',]:\n",
    "        if invalue[7] in ['1','3']:\n",
    "            print('남성입니다')\n",
    "        else:\n",
    "            print('여성입니다')\n",
    "    else:\n",
    "        print('입력 문자의 길이가 안맞거나, 성별값의 범위가 아닙니다.')"
   ]
  },
  {
   "cell_type": "code",
   "execution_count": 4,
   "id": "70412845-971f-40dc-8d3e-e46bdfffb009",
   "metadata": {},
   "outputs": [
    {
     "name": "stdin",
     "output_type": "stream",
     "text": [
      "주민등록번호 입력(14자리,종료:q,Q) >>> q\n"
     ]
    },
    {
     "name": "stdout",
     "output_type": "stream",
     "text": [
      "프로그램 종료\n"
     ]
    }
   ],
   "source": [
    "while True:\n",
    "    invalue = input('주민등록번호 입력(14자리,종료:q,Q) >>>')\n",
    "    if len(invalue) == 1 and invalue.lower() == 'q':\n",
    "        print('프로그램 종료')\n",
    "        break\n",
    "    elif len(invalue) == 14 and invalue[6] == '-' and invalue[7] in ['1','2','3','4',]:\n",
    "        if invalue[7] in ['1','3']:\n",
    "            print('남성입니다')\n",
    "        else:\n",
    "            print('여성입니다')\n",
    "    else:\n",
    "        print('입력 문자의 길이가 안맞거나, 성별값의 범위가 아닙니다.')"
   ]
  },
  {
   "cell_type": "raw",
   "id": "8392c77b-587e-40f2-b2cd-7a827cb3909b",
   "metadata": {},
   "source": [
    "quiz 02>\n",
    "로또 번호 추출기\n",
    "총 5셋트의 번호를 추출합니다.\n",
    "한 셋트당 번호는 6개 입니다.\n",
    "번호는 1~45 사이의 번호만 가능합니다.\n",
    "번호는 중복되면 안됩니다.\n",
    "번호를 출력시 오름차순으로 정렬해서 출력 합니다."
   ]
  },
  {
   "cell_type": "code",
   "execution_count": 5,
   "id": "5d94bc5b-0e78-4218-bef0-629d725b6829",
   "metadata": {},
   "outputs": [],
   "source": [
    "import random"
   ]
  },
  {
   "cell_type": "code",
   "execution_count": 6,
   "id": "f7ef49ee-4bd9-406f-acc5-e04f75586426",
   "metadata": {},
   "outputs": [
    {
     "data": {
      "text/plain": [
       "41"
      ]
     },
     "execution_count": 6,
     "metadata": {},
     "output_type": "execute_result"
    }
   ],
   "source": [
    "random.randint(1,45)"
   ]
  },
  {
   "cell_type": "code",
   "execution_count": 7,
   "id": "35c98912-c72f-4b85-aaac-6f92bec5ffbc",
   "metadata": {},
   "outputs": [
    {
     "data": {
      "text/plain": [
       "[1, 2, 3, 6]"
      ]
     },
     "execution_count": 7,
     "metadata": {},
     "output_type": "execute_result"
    }
   ],
   "source": [
    "a = [2,3,6,1]\n",
    "a.sort()\n",
    "a"
   ]
  },
  {
   "cell_type": "code",
   "execution_count": 8,
   "id": "c59b504a-ba70-407c-81a1-979913d5b452",
   "metadata": {},
   "outputs": [],
   "source": [
    "num_list = []"
   ]
  },
  {
   "cell_type": "code",
   "execution_count": 9,
   "id": "fab450fa-2cf4-4bce-8962-f626677781c9",
   "metadata": {},
   "outputs": [
    {
     "name": "stdout",
     "output_type": "stream",
     "text": [
      "[1, 2, 3, 4, 5, 6, 7, 8, 9, 10, 11, 12, 13, 14, 15, 16, 17, 18, 19, 20, 21, 22, 23, 24, 25, 26, 27, 28, 29, 30, 31, 32, 33, 34, 35, 36, 37, 38, 39, 40, 41, 42, 43, 44, 45]\n"
     ]
    }
   ],
   "source": [
    "for i in range(1,46):\n",
    "    num_list.append(i)\n",
    "print(num_list)"
   ]
  },
  {
   "cell_type": "code",
   "execution_count": 10,
   "id": "fb572b78-e61a-4ba5-9059-d30a59925f5b",
   "metadata": {},
   "outputs": [
    {
     "name": "stdout",
     "output_type": "stream",
     "text": [
      "1\n"
     ]
    }
   ],
   "source": [
    "print(num_list[0])"
   ]
  },
  {
   "cell_type": "code",
   "execution_count": 11,
   "id": "75082b23-f394-42b3-affd-1bfa50197873",
   "metadata": {},
   "outputs": [],
   "source": [
    "import random\n",
    "r_seed = random.randrange(0,45)\n",
    "win_num = num_list[r_seed]"
   ]
  },
  {
   "cell_type": "code",
   "execution_count": 12,
   "id": "2e4a1ad6-aefa-4eac-89c3-6da0a7e66863",
   "metadata": {},
   "outputs": [],
   "source": [
    "r_seed = random.randrange(0,45)\n",
    "win_num = num_list.pop(r_seed)"
   ]
  },
  {
   "cell_type": "code",
   "execution_count": 13,
   "id": "01d2e663-adf2-4542-867a-2e59e4d44c4f",
   "metadata": {},
   "outputs": [],
   "source": [
    "win_num_list = []\n",
    "for i in range(0,6):\n",
    "    r_seed = random.randrange(0,len(num_list)) \n",
    "    win_num = num_list.pop(r_seed) \n",
    "    win_num_list.append(win_num)"
   ]
  },
  {
   "cell_type": "code",
   "execution_count": 14,
   "id": "c6270cc7-e5ca-404f-a064-65bb62381710",
   "metadata": {},
   "outputs": [
    {
     "data": {
      "text/plain": [
       "[1, 2, 3, 6]"
      ]
     },
     "execution_count": 14,
     "metadata": {},
     "output_type": "execute_result"
    }
   ],
   "source": [
    "a"
   ]
  },
  {
   "cell_type": "code",
   "execution_count": 15,
   "id": "efb9ee4d-8639-4473-8c92-2d92fe8b73d7",
   "metadata": {},
   "outputs": [
    {
     "name": "stdout",
     "output_type": "stream",
     "text": [
      "[10, 14, 24, 33, 34, 43]\n"
     ]
    }
   ],
   "source": [
    "win_num_list = []\n",
    "for i in range(0,6):\n",
    "    r_seed = random.randrange(0,len(num_list)) \n",
    "    win_num = num_list.pop(r_seed) \n",
    "    win_num_list.append(win_num)\n",
    "    win_num_list.sort()\n",
    "print(win_num_list)"
   ]
  },
  {
   "cell_type": "code",
   "execution_count": 16,
   "id": "6325b037-418f-45d2-9476-db3c84cd9782",
   "metadata": {},
   "outputs": [
    {
     "name": "stdout",
     "output_type": "stream",
     "text": [
      "[4, 22, 28, 39, 42, 45]\n"
     ]
    }
   ],
   "source": [
    "win_num_list = []\n",
    "for i in range(0,6):\n",
    "    r_seed = random.randrange(0,len(num_list)) \n",
    "    win_num = num_list.pop(r_seed) \n",
    "    win_num_list.append(win_num)\n",
    "    win_num_list.sort()\n",
    "print(win_num_list)"
   ]
  },
  {
   "cell_type": "code",
   "execution_count": 17,
   "id": "fcfa482f-62af-4524-930b-0abb8b866df9",
   "metadata": {},
   "outputs": [
    {
     "name": "stdout",
     "output_type": "stream",
     "text": [
      "[7, 15, 16, 29, 36, 37]\n"
     ]
    }
   ],
   "source": [
    "win_num_list = []\n",
    "for i in range(0,6):\n",
    "    r_seed = random.randrange(0,len(num_list)) \n",
    "    win_num = num_list.pop(r_seed) \n",
    "    win_num_list.append(win_num)\n",
    "    win_num_list.sort()\n",
    "print(win_num_list)"
   ]
  },
  {
   "cell_type": "code",
   "execution_count": 18,
   "id": "a6e2ed79-fb0d-4434-9c77-7e905b0ac0e8",
   "metadata": {},
   "outputs": [],
   "source": [
    "num_list = []"
   ]
  },
  {
   "cell_type": "code",
   "execution_count": 19,
   "id": "cb0aac1e-3256-4ff4-bce1-384700075a02",
   "metadata": {},
   "outputs": [
    {
     "name": "stdout",
     "output_type": "stream",
     "text": [
      "[1, 2, 3, 4, 5, 6, 7, 8, 9, 10, 11, 12, 13, 14, 15, 16, 17, 18, 19, 20, 21, 22, 23, 24, 25, 26, 27, 28, 29, 30, 31, 32, 33, 34, 35, 36, 37, 38, 39, 40, 41, 42, 43, 44, 45]\n"
     ]
    }
   ],
   "source": [
    "for i in range(1,46):\n",
    "    num_list.append(i)\n",
    "print(num_list)"
   ]
  },
  {
   "cell_type": "code",
   "execution_count": 20,
   "id": "855cedd5-493b-40ae-914d-47479edf6cc2",
   "metadata": {},
   "outputs": [
    {
     "name": "stdout",
     "output_type": "stream",
     "text": [
      "[1, 3, 5, 13, 22, 26]\n"
     ]
    }
   ],
   "source": [
    "win_num_list = []\n",
    "for i in range(0,6):\n",
    "    r_seed = random.randrange(0,len(num_list)) \n",
    "    win_num = num_list.pop(r_seed) \n",
    "    win_num_list.append(win_num)\n",
    "    win_num_list.sort()\n",
    "print(win_num_list)"
   ]
  },
  {
   "cell_type": "code",
   "execution_count": 21,
   "id": "78b4f6ed-2a1d-4b08-a2d6-eb9c688cba7c",
   "metadata": {},
   "outputs": [],
   "source": [
    "lotto = [3,4,16,27,38,40]\n",
    "lotto_bonus = 20"
   ]
  },
  {
   "cell_type": "code",
   "execution_count": 22,
   "id": "085701d3-b14c-4f78-9a15-d41b55b7b74d",
   "metadata": {},
   "outputs": [],
   "source": [
    "point = 0\n",
    "for i in range(0,len(win_num_list)):\n",
    "    for j in range(0,len(lotto)):\n",
    "        if win_num_list[i] == lotto[j]:\n",
    "            point += 1"
   ]
  },
  {
   "cell_type": "code",
   "execution_count": 23,
   "id": "0c326494-2a25-450c-a737-0400b5c38952",
   "metadata": {},
   "outputs": [
    {
     "ename": "SyntaxError",
     "evalue": "invalid syntax (Temp/ipykernel_5928/3775066473.py, line 2)",
     "output_type": "error",
     "traceback": [
      "\u001b[1;36m  File \u001b[1;32m\"C:\\Users\\Admin\\AppData\\Local\\Temp/ipykernel_5928/3775066473.py\"\u001b[1;36m, line \u001b[1;32m2\u001b[0m\n\u001b[1;33m    for i range(0,len(win_num_list)):\u001b[0m\n\u001b[1;37m          ^\u001b[0m\n\u001b[1;31mSyntaxError\u001b[0m\u001b[1;31m:\u001b[0m invalid syntax\n"
     ]
    }
   ],
   "source": [
    "point2 = 0\n",
    "for i range(0,len(win_num_list)):\n",
    "    if win_num_list[i] == lotto_bonus:\n",
    "        point2 = 1"
   ]
  },
  {
   "cell_type": "code",
   "execution_count": null,
   "id": "60148934-a3e2-4121-8d39-3b535aa2f531",
   "metadata": {},
   "outputs": [],
   "source": [
    "if point == 3:\n",
    "    print(\"5\")\n",
    "elif point == 4:\n",
    "    print(\"4\")\n",
    "elif (point == 5) and (point2 == 0):\n",
    "    print(\"3\")\n",
    "elif (point == 5) and (point2 == 1):\n",
    "    print(\"2\")\n",
    "elif point ==6:\n",
    "    print(\"1\")\n",
    "else: print(\"꽝\")\n",
    "  \n"
   ]
  },
  {
   "cell_type": "code",
   "execution_count": null,
   "id": "0dfe4b1b-8d52-4050-a99e-bd9ffcdea481",
   "metadata": {},
   "outputs": [],
   "source": [
    "def lotto_random():\n",
    "    num_list = []\n",
    "    for i in range(1,46):\n",
    "        num_list.append(i)\n",
    "    win_num_list = []\n",
    "    for i in range(0,6):\n",
    "        r_seed = random.randrange(0,len(num_list))\n",
    "        win_num = num_list.pop(r_seed)        \n",
    "        win_num_list.append(win_num)\n",
    "    win_num_list.sort()\n",
    "    print(win_num_list)\n",
    "    lotto = [3,4,16,27,38,40]\n",
    "    lotto_bonus = 20\n",
    "    point = 0\n",
    "    for i in range(0,len(win_num_list)):\n",
    "        for j in range(0, len(lotto)):\n",
    "            if win_num_list[i] == lotto[j]:\n",
    "                point += 1\n",
    "    point2 = 0\n",
    "    for i in range(0,len(win_num_list)):\n",
    "        if win_num_list[i] == lotto_bonus:\n",
    "            point2 = 1\n",
    "    if point == 3:\n",
    "        print(\"5등\")\n",
    "    elif point == 4:\n",
    "        print(\"4등\")\n",
    "    elif (point == 5) and (point2 == 0):\n",
    "        print(\"3등\")\n",
    "    elif (point == 5) and (point2 == 1):\n",
    "        print(\"2등\")\n",
    "    elif point == 6:\n",
    "        print(\"1등\")\n",
    "    else: print(\"꽝\")"
   ]
  },
  {
   "cell_type": "code",
   "execution_count": null,
   "id": "c7255583-ba26-446a-9bab-6d80f29a887c",
   "metadata": {},
   "outputs": [],
   "source": [
    "for i in range(1,46):\n",
    "    num_list.append(i)\n",
    "print(num_list)"
   ]
  },
  {
   "cell_type": "code",
   "execution_count": null,
   "id": "a2cd8c59-6154-4b6f-9e89-e8fd23f13bb7",
   "metadata": {},
   "outputs": [],
   "source": [
    "win_num_list = []\n",
    "for i in range(0,6):\n",
    "    r_seed = random.randrange(0,len(num_list)) \n",
    "    win_num = num_list.pop(r_seed) \n",
    "    win_num_list.append(win_num)\n",
    "    win_num_list.sort()\n",
    "print(win_num_list)"
   ]
  },
  {
   "cell_type": "code",
   "execution_count": null,
   "id": "7f95341c-62ef-48c7-91d9-471220924ffb",
   "metadata": {},
   "outputs": [],
   "source": [
    "def lotto_random():\n",
    "    num_list = []\n",
    "    for i in range(1,46):\n",
    "        num_list.append(i)\n",
    "    win_num_list = []\n",
    "    for i in range(0,6):\n",
    "        r_seed = random.randrange(0,len(num_list))\n",
    "        win_num = num_list.pop(r_seed)        \n",
    "        win_num_list.append(win_num)\n",
    "    win_num_list.sort()\n",
    "    print(win_num_list)"
   ]
  },
  {
   "cell_type": "code",
   "execution_count": null,
   "id": "dc7b29fe-a634-4758-91ef-52c127f6dfa4",
   "metadata": {},
   "outputs": [],
   "source": [
    "num_list = []\n"
   ]
  },
  {
   "cell_type": "code",
   "execution_count": null,
   "id": "fa63454a-9415-43a1-bb67-1c291b09ee3f",
   "metadata": {},
   "outputs": [],
   "source": [
    " for i in range(1,46):\n",
    "        num_list.append(i)"
   ]
  },
  {
   "cell_type": "code",
   "execution_count": null,
   "id": "4cd96838-4605-430f-9794-3b546968d623",
   "metadata": {},
   "outputs": [],
   "source": [
    "for i in range(1,46):\n",
    "    num_list.append(i)\n",
    "print(num_list)\n"
   ]
  },
  {
   "cell_type": "code",
   "execution_count": null,
   "id": "8f5890bc-9c86-4625-99d9-47d28665dfae",
   "metadata": {},
   "outputs": [],
   "source": [
    "win_num_list = []\n",
    "for i in range(0,6):\n",
    "    r_seed = random.randrange(0,len(num_list)) \n",
    "    win_num = num_list.pop(r_seed) \n",
    "    win_num_list.append(win_num)\n",
    "    win_num_list.sort()\n",
    "print(win_num_list)"
   ]
  },
  {
   "cell_type": "code",
   "execution_count": null,
   "id": "7262cf79-64d8-4484-a818-e11bbf688326",
   "metadata": {},
   "outputs": [],
   "source": [
    "import random\n",
    "for i in range(5):\n",
    "    lotto = [0,0,0,0,0,0]\n",
    "    for x in range(6):\n",
    "        num = 0\n",
    "        while (num in lotto):\n",
    "            num = random.randint(1,45)\n",
    "        lotto[x] = num\n",
    "    lotto.sort()\n",
    "    print(lotto)"
   ]
  },
  {
   "cell_type": "code",
   "execution_count": null,
   "id": "3051fcf8-f121-4011-8fe3-0c427a6ba993",
   "metadata": {
    "jupyter": {
     "source_hidden": true
    },
    "tags": []
   },
   "outputs": [],
   "source": [
    "for i in range(6):\n",
    "    lotto = random.sample(range(1,46),6)\n",
    "    lotto.sort()\n",
    "    print(lotto)"
   ]
  },
  {
   "cell_type": "raw",
   "id": "aa56ac63-d912-4cdc-aa9c-c32ced32e91b",
   "metadata": {},
   "source": [
    "quiz 03> 커피메뉴 관리프로그램\n",
    "데이터 저장은 딕셔너리로..{'메뉴명':가격,'coffee':2000\n",
    "프로그램에서 사용할 메뉴\n",
    "1.메뉴입력 2.메뉴수정 3.메뉴목록 4.메뉴삭제 5.프로그램종료\n",
    "-메뉴입력 : 메뉴명과 가격을 입력받아서 저장 \n",
    "-메뉴수정 : 메뉴명을 확인하고 있는 메뉴에 가격을 입력받앙 수정\n",
    "-메뉴목록 : 저장된 메뉴명과 가격을 출력(천단위구분기호표기),메뉴명 순서대로 출력\n",
    "-메뉴삭제 : 메뉴명을 확인하고 있는 메뉴에서 삭제\n",
    "-프로그램종료 : 프로그램 종료하는 메시지 출력하고 종료 \n",
    "-메뉴1~5까지만 입력받고 다른 값이 들어오면 관련 에러 메시지를 출력한다.\n",
    "-가격은 숫자로 입력해야됨\n",
    "\n"
   ]
  },
  {
   "cell_type": "code",
   "execution_count": null,
   "id": "be5334c5-b16d-4484-965b-1985e5ae332e",
   "metadata": {},
   "outputs": [],
   "source": [
    "#sorted()\n",
    "list1=[5,2,3,1,4]\n",
    "dict1={'아이스 아메리카노':3000, '라떼':4000,'코코아':3500}"
   ]
  },
  {
   "cell_type": "code",
   "execution_count": null,
   "id": "ab235daf-ec9e-42dd-a312-fa777677a9cb",
   "metadata": {},
   "outputs": [],
   "source": [
    "sorted(list1)"
   ]
  },
  {
   "cell_type": "code",
   "execution_count": null,
   "id": "e6add9ef-0e7b-4012-9ce9-0ca769f3ac92",
   "metadata": {},
   "outputs": [],
   "source": [
    "list1"
   ]
  },
  {
   "cell_type": "code",
   "execution_count": null,
   "id": "b916c9df-5ab3-41b1-82f0-c1633feca9dc",
   "metadata": {},
   "outputs": [],
   "source": [
    "sorted(dict1)"
   ]
  },
  {
   "cell_type": "code",
   "execution_count": 43,
   "id": "edfbe8c0-09c4-4abe-9f1f-e3b911986060",
   "metadata": {},
   "outputs": [
    {
     "name": "stdin",
     "output_type": "stream",
     "text": [
      "\n",
      "    -----------------------------------------------------------------------\n",
      "    1.메뉴입력    2.메뉴수정    3.메뉴목록    4.메뉴삭제    5.프로그램종료\n",
      "    -----------------------------------------------------------------------\n",
      "    메뉴선택 >>>  3\n"
     ]
    },
    {
     "name": "stdout",
     "output_type": "stream",
     "text": [
      "---- menu ----\n",
      "코코아) :      3,500\n",
      "아이스아메리카노) :      3,000\n",
      "라떼) :      4,000\n"
     ]
    },
    {
     "name": "stdin",
     "output_type": "stream",
     "text": [
      "\n",
      "    -----------------------------------------------------------------------\n",
      "    1.메뉴입력    2.메뉴수정    3.메뉴목록    4.메뉴삭제    5.프로그램종료\n",
      "    -----------------------------------------------------------------------\n",
      "    메뉴선택 >>>  5\n"
     ]
    },
    {
     "name": "stdout",
     "output_type": "stream",
     "text": [
      "프로그램을 종료합니다.\n"
     ]
    }
   ],
   "source": [
    "menu = {'아이스아메리카노':3000,'라떼':4000,'코코아':3500}\n",
    "while True:\n",
    "    choice = input('''\n",
    "    -----------------------------------------------------------------------\n",
    "    1.메뉴입력    2.메뉴수정    3.메뉴목록    4.메뉴삭제    5.프로그램종료\n",
    "    -----------------------------------------------------------------------\n",
    "    메뉴선택 >>> ''')\n",
    "    if choice == '1':\n",
    "        print('현재메뉴 :',list(menu.keys()))\n",
    "        name = input('추가할 메뉴명을 입력하세요 >>>')\n",
    "        price = 'a'\n",
    "        while not price.isdecimal():\n",
    "            price = input('추가할 메뉴의 가격을 입력하세요 >>>')\n",
    "        menu[name]=int(price)\n",
    "    elif choice == '2':\n",
    "        print('현재메뉴 :',list(menu.keys()))\n",
    "        name = ''\n",
    "        while not name in menu.keys():\n",
    "            name = input('수정할 메뉴명을 입력하세요 >>>')\n",
    "        price = 'a'\n",
    "        while not price.isdecimal():\n",
    "            price = input('수정할 메뉴의 가격을 입력하세요 >>>')\n",
    "        menu[name]=int(price)\n",
    "    elif choice == '3':\n",
    "        print('---- menu ----')\n",
    "        for item in sorted(menu.items(),key=lambda data:data,reverse=True): \n",
    "            print(f'{item[0]}) : {item[1]:10,}')\n",
    "    elif choice == '4':\n",
    "        print('현재메뉴 :',list(menu.keys()))\n",
    "        name = ''\n",
    "        while not name in menu.keys():\n",
    "            name = input('삭제할 메뉴명을 입력하세요 >>>')\n",
    "        del menu[name]\n",
    "    elif choice == '5':\n",
    "        print('프로그램을 종료합니다.')\n",
    "        break\n",
    "    else:\n",
    "        print('메뉴를 잘못 선택 하셨습니다.')"
   ]
  },
  {
   "cell_type": "raw",
   "id": "bacd7947-abd3-4bdf-a16a-47d8dbc758c4",
   "metadata": {},
   "source": [
    "quiz 04 >\n",
    "quiz 03에 내용을 프로그램 시작시 읽어오고 프로그램 종료시 저장"
   ]
  },
  {
   "cell_type": "code",
   "execution_count": 103,
   "id": "b136c66d-5e7d-45fc-ae26-255e53a414d8",
   "metadata": {},
   "outputs": [
    {
     "name": "stdin",
     "output_type": "stream",
     "text": [
      "\n",
      "    -----------------------------------------------------------------------\n",
      "    1.메뉴입력    2.메뉴수정    3.메뉴목록    4.메뉴삭제    5.프로그램종료\n",
      "    -----------------------------------------------------------------------\n",
      "    메뉴선택 >>>  3\n"
     ]
    },
    {
     "name": "stdout",
     "output_type": "stream",
     "text": [
      "---- menu ----\n",
      "코코아) :      3,500\n",
      "우유) :      3,004\n",
      "아이스아메리카노) :      3,000\n",
      "라떼) :      4,000\n",
      "꿀) :      2,330\n"
     ]
    },
    {
     "name": "stdin",
     "output_type": "stream",
     "text": [
      "\n",
      "    -----------------------------------------------------------------------\n",
      "    1.메뉴입력    2.메뉴수정    3.메뉴목록    4.메뉴삭제    5.프로그램종료\n",
      "    -----------------------------------------------------------------------\n",
      "    메뉴선택 >>>  3\n"
     ]
    },
    {
     "name": "stdout",
     "output_type": "stream",
     "text": [
      "---- menu ----\n",
      "코코아) :      3,500\n",
      "우유) :      3,004\n",
      "아이스아메리카노) :      3,000\n",
      "라떼) :      4,000\n",
      "꿀) :      2,330\n"
     ]
    },
    {
     "name": "stdin",
     "output_type": "stream",
     "text": [
      "\n",
      "    -----------------------------------------------------------------------\n",
      "    1.메뉴입력    2.메뉴수정    3.메뉴목록    4.메뉴삭제    5.프로그램종료\n",
      "    -----------------------------------------------------------------------\n",
      "    메뉴선택 >>>  5\n"
     ]
    },
    {
     "name": "stdout",
     "output_type": "stream",
     "text": [
      "프로그램을 종료합니다.\n"
     ]
    }
   ],
   "source": [
    "import json\n",
    "\n",
    "f = open('menu.json','w')\n",
    "json.dump(menu,f)\n",
    "f.close()\n",
    "\n",
    "\n",
    "# menu = {'아이스아메리카노':3000,'라떼':4000,'코코아':3500}\n",
    "while True:\n",
    "    choice = input('''\n",
    "    -----------------------------------------------------------------------\n",
    "    1.메뉴입력    2.메뉴수정    3.메뉴목록    4.메뉴삭제    5.프로그램종료\n",
    "    -----------------------------------------------------------------------\n",
    "    메뉴선택 >>> ''')\n",
    "    if choice == '1':\n",
    "        print('현재메뉴 :',list(menu.keys()))\n",
    "        name = input('추가할 메뉴명을 입력하세요 >>>')\n",
    "        price = 'a'\n",
    "        while not price.isdecimal():\n",
    "            price = input('추가할 메뉴의 가격을 입력하세요 >>>')\n",
    "        menu[name]=int(price)\n",
    "    elif choice == '2':\n",
    "        print('현재메뉴 :',list(menu.keys()))\n",
    "        name = ''\n",
    "        while not name in menu.keys():\n",
    "            name = input('수정할 메뉴명을 입력하세요 >>>')\n",
    "        price = 'a'\n",
    "        while not price.isdecimal():\n",
    "            price = input('수정할 메뉴의 가격을 입력하세요 >>>')\n",
    "        menu[name]=int(price)\n",
    "    elif choice == '3':\n",
    "        print('---- menu ----')\n",
    "        for item in sorted(menu.items(),key=lambda data:data,reverse=True): \n",
    "            print(f'{item[0]}) : {item[1]:10,}')\n",
    "    elif choice == '4':\n",
    "        print('현재메뉴 :',list(menu.keys()))\n",
    "        name = ''\n",
    "        while not name in menu.keys():\n",
    "            name = input('삭제할 메뉴명을 입력하세요 >>>')\n",
    "        del menu[name]\n",
    "    elif choice == '5':\n",
    "        print('프로그램을 종료합니다.')\n",
    "        break\n",
    "        f = open('menu.json','r')\n",
    "        menu = json.load(f)\n",
    "        f.close()\n",
    "    else:\n",
    "        print('메뉴를 잘못 선택 하셨습니다.')\n",
    "    "
   ]
  },
  {
   "cell_type": "code",
   "execution_count": null,
   "id": "22b7de00-6d4a-4097-aea1-a95ffbb10acd",
   "metadata": {},
   "outputs": [],
   "source": [
    "file = open('hello.txt','w')"
   ]
  },
  {
   "cell_type": "code",
   "execution_count": 46,
   "id": "bf9163f3-010c-40d5-9aba-9571a87e241e",
   "metadata": {},
   "outputs": [
    {
     "data": {
      "text/plain": [
       "12"
      ]
     },
     "execution_count": 46,
     "metadata": {},
     "output_type": "execute_result"
    }
   ],
   "source": [
    "file.write('hello world!')"
   ]
  },
  {
   "cell_type": "code",
   "execution_count": 47,
   "id": "c3054bfc-32dd-4e5c-bac9-bbd848e60fb7",
   "metadata": {},
   "outputs": [],
   "source": [
    "file.close()"
   ]
  },
  {
   "cell_type": "code",
   "execution_count": 57,
   "id": "73aeb475-de04-4f3c-aeef-b4a5ca6ee7ca",
   "metadata": {},
   "outputs": [],
   "source": [
    "file = open('hello.txt','r')\n",
    "text = file.readlines()"
   ]
  },
  {
   "cell_type": "code",
   "execution_count": 58,
   "id": "5fcfa316-39e7-4a77-bc66-957a360af0ee",
   "metadata": {},
   "outputs": [
    {
     "data": {
      "text/plain": [
       "['hello world!\\n',\n",
       " 'hello world!\\n',\n",
       " 'hello world!\\n',\n",
       " 'hello world!\\n',\n",
       " 'hello world!']"
      ]
     },
     "execution_count": 58,
     "metadata": {},
     "output_type": "execute_result"
    }
   ],
   "source": [
    "text"
   ]
  },
  {
   "cell_type": "code",
   "execution_count": 60,
   "id": "013bb65c-b600-46ba-a2fb-e9878b325e76",
   "metadata": {},
   "outputs": [],
   "source": [
    "file.close()"
   ]
  },
  {
   "cell_type": "code",
   "execution_count": 62,
   "id": "01707629-bbbf-4cc5-8e4c-a01d79998271",
   "metadata": {},
   "outputs": [],
   "source": [
    "import pickle"
   ]
  },
  {
   "cell_type": "code",
   "execution_count": 63,
   "id": "5291d3d3-8d37-4d5e-81ff-7f33a10eebba",
   "metadata": {},
   "outputs": [
    {
     "data": {
      "text/plain": [
       "{'아이스아메리카노': 3000, '라떼': 4000, '코코아': 3500}"
      ]
     },
     "execution_count": 63,
     "metadata": {},
     "output_type": "execute_result"
    }
   ],
   "source": [
    "menu"
   ]
  },
  {
   "cell_type": "code",
   "execution_count": 65,
   "id": "c25ad95f-1b6b-4b3d-b6a5-caa7e69504dc",
   "metadata": {},
   "outputs": [],
   "source": [
    "f = open('menu.pickle','wb')\n",
    "pickle.dump(menu,f)\n",
    "f.close()"
   ]
  },
  {
   "cell_type": "code",
   "execution_count": 66,
   "id": "bb1638b7-f314-44f1-a23b-98a3dee582b2",
   "metadata": {},
   "outputs": [],
   "source": [
    "f = open('menu.pickle','rb')\n",
    "data = pickle.load(f)\n",
    "f.close()"
   ]
  },
  {
   "cell_type": "code",
   "execution_count": 68,
   "id": "51a87449-4056-45e1-85c4-d42b78ad1aec",
   "metadata": {},
   "outputs": [
    {
     "data": {
      "text/plain": [
       "dict"
      ]
     },
     "execution_count": 68,
     "metadata": {},
     "output_type": "execute_result"
    }
   ],
   "source": [
    "type(data)"
   ]
  },
  {
   "cell_type": "code",
   "execution_count": 77,
   "id": "45dab582-c8b8-4894-a5c9-d7c2471e0445",
   "metadata": {},
   "outputs": [],
   "source": [
    "import json"
   ]
  },
  {
   "cell_type": "code",
   "execution_count": 91,
   "id": "6cda23a6-b329-4659-8cc0-ad2671d0ed97",
   "metadata": {},
   "outputs": [],
   "source": [
    "f = open('menu.json','w')\n",
    "json.dump(menu,f)\n",
    "f.close()"
   ]
  },
  {
   "cell_type": "code",
   "execution_count": 92,
   "id": "2ff4ad7e-e34e-434d-aa24-7be8b1d54a35",
   "metadata": {},
   "outputs": [],
   "source": [
    "f = open('menu.json','r')\n",
    "data = json.load(f)\n",
    "f.close()"
   ]
  },
  {
   "cell_type": "code",
   "execution_count": 93,
   "id": "f3579469-06fe-4092-b46f-c430c9a96941",
   "metadata": {},
   "outputs": [
    {
     "data": {
      "text/plain": [
       "module"
      ]
     },
     "execution_count": 93,
     "metadata": {},
     "output_type": "execute_result"
    }
   ],
   "source": [
    "type(json)"
   ]
  },
  {
   "cell_type": "raw",
   "id": "5bc846ce-acbe-4c90-b43c-309e17f92866",
   "metadata": {},
   "source": [
    "quiz 5>\n",
    "타자게임\n",
    "- 데이터는 word = ['cat','dog','fox',',monkey','frog','panda','mouse','snake','wolf']\n",
    "- 문제는 총 5문제가 랜덤으로 나옵니다.\n",
    "- 나온 문제는 맞출때까지 계속 됩니다.\n",
    "- 문제를 맞추면 다음 문제가 나옵니다.\n",
    "- 시간체크"
   ]
  },
  {
   "cell_type": "code",
   "execution_count": 104,
   "id": "db65fc6f-1c38-4a2f-912e-b633000639e8",
   "metadata": {},
   "outputs": [],
   "source": [
    "import random"
   ]
  },
  {
   "cell_type": "code",
   "execution_count": 207,
   "id": "2cc99d14-b1f0-49d9-a6e2-dda3d5065b17",
   "metadata": {},
   "outputs": [
    {
     "name": "stdin",
     "output_type": "stream",
     "text": [
      "시작! ENTER입력시 시작 \n"
     ]
    },
    {
     "name": "stdout",
     "output_type": "stream",
     "text": [
      "1번\n",
      "frog\n"
     ]
    },
    {
     "name": "stdin",
     "output_type": "stream",
     "text": [
      " \n"
     ]
    },
    {
     "name": "stdout",
     "output_type": "stream",
     "text": [
      "오타! 다시도전\n",
      "1번\n",
      "frog\n"
     ]
    },
    {
     "name": "stdin",
     "output_type": "stream",
     "text": [
      " frog\n"
     ]
    },
    {
     "name": "stdout",
     "output_type": "stream",
     "text": [
      "통과\n",
      "2번\n",
      "snake\n"
     ]
    },
    {
     "name": "stdin",
     "output_type": "stream",
     "text": [
      " snake\n"
     ]
    },
    {
     "name": "stdout",
     "output_type": "stream",
     "text": [
      "통과\n",
      "3번\n",
      "fox\n"
     ]
    },
    {
     "ename": "KeyboardInterrupt",
     "evalue": "Interrupted by user",
     "output_type": "error",
     "traceback": [
      "\u001b[1;31m---------------------------------------------------------------------------\u001b[0m",
      "\u001b[1;31mKeyboardInterrupt\u001b[0m                         Traceback (most recent call last)",
      "\u001b[1;32m~\\AppData\\Local\\Temp/ipykernel_5928/952136567.py\u001b[0m in \u001b[0;36m<module>\u001b[1;34m\u001b[0m\n\u001b[0;32m     10\u001b[0m     \u001b[0mprint\u001b[0m\u001b[1;33m(\u001b[0m\u001b[1;34mf'{n}번'\u001b[0m\u001b[1;33m)\u001b[0m\u001b[1;33m\u001b[0m\u001b[1;33m\u001b[0m\u001b[0m\n\u001b[0;32m     11\u001b[0m     \u001b[0mprint\u001b[0m\u001b[1;33m(\u001b[0m\u001b[0mquiz\u001b[0m\u001b[1;33m)\u001b[0m\u001b[1;33m\u001b[0m\u001b[1;33m\u001b[0m\u001b[0m\n\u001b[1;32m---> 12\u001b[1;33m     \u001b[0mx\u001b[0m \u001b[1;33m=\u001b[0m \u001b[0minput\u001b[0m\u001b[1;33m(\u001b[0m\u001b[1;33m)\u001b[0m\u001b[1;33m\u001b[0m\u001b[1;33m\u001b[0m\u001b[0m\n\u001b[0m\u001b[0;32m     13\u001b[0m     \u001b[1;32mif\u001b[0m \u001b[0mquiz\u001b[0m \u001b[1;33m==\u001b[0m \u001b[0mx\u001b[0m\u001b[1;33m:\u001b[0m\u001b[1;33m\u001b[0m\u001b[1;33m\u001b[0m\u001b[0m\n\u001b[0;32m     14\u001b[0m         \u001b[0mprint\u001b[0m\u001b[1;33m(\u001b[0m\u001b[1;34m'통과'\u001b[0m\u001b[1;33m)\u001b[0m\u001b[1;33m\u001b[0m\u001b[1;33m\u001b[0m\u001b[0m\n",
      "\u001b[1;32m~\\anaconda3\\lib\\site-packages\\ipykernel\\kernelbase.py\u001b[0m in \u001b[0;36mraw_input\u001b[1;34m(self, prompt)\u001b[0m\n\u001b[0;32m   1004\u001b[0m                 \u001b[1;34m\"raw_input was called, but this frontend does not support input requests.\"\u001b[0m\u001b[1;33m\u001b[0m\u001b[1;33m\u001b[0m\u001b[0m\n\u001b[0;32m   1005\u001b[0m             )\n\u001b[1;32m-> 1006\u001b[1;33m         return self._input_request(\n\u001b[0m\u001b[0;32m   1007\u001b[0m             \u001b[0mstr\u001b[0m\u001b[1;33m(\u001b[0m\u001b[0mprompt\u001b[0m\u001b[1;33m)\u001b[0m\u001b[1;33m,\u001b[0m\u001b[1;33m\u001b[0m\u001b[1;33m\u001b[0m\u001b[0m\n\u001b[0;32m   1008\u001b[0m             \u001b[0mself\u001b[0m\u001b[1;33m.\u001b[0m\u001b[0m_parent_ident\u001b[0m\u001b[1;33m[\u001b[0m\u001b[1;34m\"shell\"\u001b[0m\u001b[1;33m]\u001b[0m\u001b[1;33m,\u001b[0m\u001b[1;33m\u001b[0m\u001b[1;33m\u001b[0m\u001b[0m\n",
      "\u001b[1;32m~\\anaconda3\\lib\\site-packages\\ipykernel\\kernelbase.py\u001b[0m in \u001b[0;36m_input_request\u001b[1;34m(self, prompt, ident, parent, password)\u001b[0m\n\u001b[0;32m   1049\u001b[0m             \u001b[1;32mexcept\u001b[0m \u001b[0mKeyboardInterrupt\u001b[0m\u001b[1;33m:\u001b[0m\u001b[1;33m\u001b[0m\u001b[1;33m\u001b[0m\u001b[0m\n\u001b[0;32m   1050\u001b[0m                 \u001b[1;31m# re-raise KeyboardInterrupt, to truncate traceback\u001b[0m\u001b[1;33m\u001b[0m\u001b[1;33m\u001b[0m\u001b[0m\n\u001b[1;32m-> 1051\u001b[1;33m                 \u001b[1;32mraise\u001b[0m \u001b[0mKeyboardInterrupt\u001b[0m\u001b[1;33m(\u001b[0m\u001b[1;34m\"Interrupted by user\"\u001b[0m\u001b[1;33m)\u001b[0m \u001b[1;32mfrom\u001b[0m \u001b[1;32mNone\u001b[0m\u001b[1;33m\u001b[0m\u001b[1;33m\u001b[0m\u001b[0m\n\u001b[0m\u001b[0;32m   1052\u001b[0m             \u001b[1;32mexcept\u001b[0m \u001b[0mException\u001b[0m\u001b[1;33m:\u001b[0m\u001b[1;33m\u001b[0m\u001b[1;33m\u001b[0m\u001b[0m\n\u001b[0;32m   1053\u001b[0m                 \u001b[0mself\u001b[0m\u001b[1;33m.\u001b[0m\u001b[0mlog\u001b[0m\u001b[1;33m.\u001b[0m\u001b[0mwarning\u001b[0m\u001b[1;33m(\u001b[0m\u001b[1;34m\"Invalid Message:\"\u001b[0m\u001b[1;33m,\u001b[0m \u001b[0mexc_info\u001b[0m\u001b[1;33m=\u001b[0m\u001b[1;32mTrue\u001b[0m\u001b[1;33m)\u001b[0m\u001b[1;33m\u001b[0m\u001b[1;33m\u001b[0m\u001b[0m\n",
      "\u001b[1;31mKeyboardInterrupt\u001b[0m: Interrupted by user"
     ]
    }
   ],
   "source": [
    "import random\n",
    "import time\n",
    "\n",
    "word = ['cat','dog','fox','monkey','frog','panda','mouse','snake','wolf']\n",
    "n = 1\n",
    "quiz = random.choice(word)\n",
    "input('시작! ENTER입력시 시작')\n",
    "start = time.time()\n",
    "while n <= 5:\n",
    "    print(f'{n}번')\n",
    "    print(quiz)\n",
    "    x = input()\n",
    "    if quiz == x:\n",
    "        print('통과')\n",
    "        n += 1\n",
    "        quiz = random.choice(word)\n",
    "    else:\n",
    "        print('오타! 다시도전')\n",
    "print('5문제 다 맞췄습니다.')\n",
    "end = time.time()\n",
    "print(f'걸린시간:{end-start:.0f}초')"
   ]
  },
  {
   "cell_type": "code",
   "execution_count": 106,
   "id": "048598c8-9f22-4e5e-8be6-d7a53a17c6d6",
   "metadata": {},
   "outputs": [
    {
     "data": {
      "text/plain": [
       "'fox'"
      ]
     },
     "execution_count": 106,
     "metadata": {},
     "output_type": "execute_result"
    }
   ],
   "source": [
    "random.choice(word)"
   ]
  },
  {
   "cell_type": "code",
   "execution_count": 147,
   "id": "eed72ddb-b7ce-4249-acfa-2e6c9aa457bb",
   "metadata": {},
   "outputs": [
    {
     "data": {
      "text/plain": [
       "'snake'"
      ]
     },
     "execution_count": 147,
     "metadata": {},
     "output_type": "execute_result"
    }
   ],
   "source": [
    "word[random.randint(0,len(word)-1)]"
   ]
  },
  {
   "cell_type": "raw",
   "id": "ef2227bd-ca31-422f-8259-847bfe83e0e1",
   "metadata": {},
   "source": [
    "quiz 6>\n",
    "앞에 타자게임을 활용\n",
    "- 1.문제추가 2.타자게임 3.등수리스트 4.종료하기\n",
    "- 문제 추가 후 데이터는 파일로 저장\n",
    "- 문제 추가는 단어를 입력 받아서 중복 되지 않도록\n",
    "- 타자게임은 시간을 체크하고 , 걸린시간을 사용자명과 함께 저장 (딕셔너리로 저장:등수데이터)\n",
    "- 등수리스트는 걸린시간이 적은 순서대로 정렬해서 출력합니다.\n",
    "- 종료하기는 등수리스트를 저장하고 진행합니다.\n",
    "- 프로그램이 시작될 때 문제와 등수 정보를 읽어 옵니다."
   ]
  },
  {
   "cell_type": "code",
   "execution_count": 197,
   "id": "f24a1c81-5637-4db6-b2e2-bba65c17bbeb",
   "metadata": {},
   "outputs": [
    {
     "name": "stdin",
     "output_type": "stream",
     "text": [
      "\n",
      " 1.문제 추가 2.타자게임 3.등수리스트 4.종료하기   \n",
      " 메뉴선택 >>> 3\n"
     ]
    },
    {
     "name": "stdout",
     "output_type": "stream",
     "text": [
      "1등 7.29\n",
      "2등 8.95\n",
      "3등 9.80\n",
      "4등 10.11\n"
     ]
    },
    {
     "name": "stdin",
     "output_type": "stream",
     "text": [
      "\n",
      " 1.문제 추가 2.타자게임 3.등수리스트 4.종료하기   \n",
      " 메뉴선택 >>> 4\n"
     ]
    },
    {
     "name": "stdout",
     "output_type": "stream",
     "text": [
      "프로그램을 종료합니다\n"
     ]
    }
   ],
   "source": [
    "import random,time,json\n",
    "\n",
    "word = ['cat','dog','fox','monkey','frog','panda','mouse','snake','wolf']\n",
    "rank = {'aaa':10.111}\n",
    "\n",
    "with open('word.json','r') as f:\n",
    "    word = json.load(f)\n",
    "with open('rank.json','r') as f:\n",
    "     rank = json.load(f)\n",
    "\n",
    "\n",
    "while True:\n",
    "    menu = input('''\n",
    " 1.문제 추가 2.타자게임 3.등수리스트 4.종료하기   \n",
    " 메뉴선택 >>>''')\n",
    "    if menu == '1':\n",
    "        while True:\n",
    "            quiz = quiz = input('추가할 단어를 입력(종료:0) >>>')\n",
    "            while quiz in word:\n",
    "                quiz = input('중복된 단어 입니다. 다시 입력해주세요.(종료:0) >>>')\n",
    "            if quiz =='0':\n",
    "                break\n",
    "            word.append(quiz)\n",
    "            print(word)\n",
    "        with open('word.json','w') as f:\n",
    "            json.dump(word,f)\n",
    "    elif menu == '2':\n",
    "        n = 1\n",
    "        quiz = random.choice(word)\n",
    "        input('시작! ENTER입력시 시작')\n",
    "        start = time.time()\n",
    "        while n <= 5:\n",
    "            print(f'{n}번')\n",
    "            print(quiz)\n",
    "            x = input()\n",
    "            if quiz == x:\n",
    "                print('통과')\n",
    "                n += 1\n",
    "                quiz = random.choice(word)\n",
    "            else:\n",
    "                print('오타! 다시도전')\n",
    "        print('5문제 다 맞췄습니다.')\n",
    "        end = time.time()\n",
    "        print(f'걸린시간:{end-start:.0f}초')\n",
    "        name = input('사용자명을 입력하세요 >>>')\n",
    "        while name in rank:\n",
    "            name = input('사용자명이 중복됩니다. 다른이름을 입력하세요 >>>')\n",
    "        rank[name]=end-start\n",
    "        print(rank)\n",
    "    elif menu == '3':\n",
    "        ranklist = sorted(rank.items(),key=lambda x:x[1])\n",
    "        for index,item in enumerate(ranklist):\n",
    "            print(f'{index+1}등 {item[1]:.2f}')\n",
    "    elif menu == '4':\n",
    "        print('프로그램을 종료합니다')\n",
    "        with open('rank.json','w') as f:\n",
    "             json.dump(rank,f)\n",
    "        break\n",
    "    else:\n",
    "        print('메뉴선택을 잘못했습니다.')\n",
    "        "
   ]
  },
  {
   "cell_type": "raw",
   "id": "025f7e91-ca42-4557-999c-8bbb978ba666",
   "metadata": {},
   "source": [
    "1.만들고자 하는 프로그램 설명 (crud)\n",
    "2.기능별 정의 - 어떤 내용이 구현되어야 하는지\n",
    "3.작성된 내용 및 소스는 트렐로에 오늘자 과제올리는곳에\n",
    "\n",
    "햄버거 키오스크만들기 \n",
    "1.불고기버거4000 새우버거5000 치킨버거6000 \n",
    "2.콜라2000 사이다2000 \n",
    "\n",
    "1.메뉴목록 2.메뉴입력 3. 메뉴가격 4.메뉴삭제 5.결제 \n",
    "\n",
    "\n",
    "-거스름돈\n",
    "-결제끝나면 종료 \n"
   ]
  },
  {
   "cell_type": "code",
   "execution_count": 203,
   "id": "f01b984b-7ed7-488c-a316-06b202480822",
   "metadata": {},
   "outputs": [
    {
     "ename": "IndentationError",
     "evalue": "unindent does not match any outer indentation level (<tokenize>, line 129)",
     "output_type": "error",
     "traceback": [
      "\u001b[1;36m  File \u001b[1;32m\"<tokenize>\"\u001b[1;36m, line \u001b[1;32m129\u001b[0m\n\u001b[1;33m    elif choice == 4:\u001b[0m\n\u001b[1;37m    ^\u001b[0m\n\u001b[1;31mIndentationError\u001b[0m\u001b[1;31m:\u001b[0m unindent does not match any outer indentation level\n"
     ]
    }
   ],
   "source": []
  },
  {
   "cell_type": "code",
   "execution_count": 216,
   "id": "47ada0aa-5d0c-461a-b4ae-0ad2ee1aa057",
   "metadata": {},
   "outputs": [
    {
     "name": "stdout",
     "output_type": "stream",
     "text": [
      "어서오세요 음치노래방입니다\n",
      "\n",
      "500원의 2곡 1000원에 5곡입니다.\n"
     ]
    },
    {
     "name": "stdin",
     "output_type": "stream",
     "text": [
      "얼마를 넣으시겠습니까?\n",
      "coin :  2000\n"
     ]
    },
    {
     "name": "stdout",
     "output_type": "stream",
     "text": [
      "100원을 넣으셨습니다.\n"
     ]
    }
   ],
   "source": [
    "front = \"\"\"어서오세요 음치노래방입니다\\n\n",
    "500원의 2곡 1000원에 5곡입니다.\"\"\"\n",
    "much = '얼마를 넣으시겠습니까?\\ncoin : '\n",
    "thou = '1000원을 넣으셨습니다. 5곡이 충전됩니다.'\n",
    "five = '500원을 넣으셨습니다. 2곡이 충전됩니다.'\n",
    "one = '원을 넣으셨습니다.'\n",
    "one_hun = 0\n",
    "coin = 0\n",
    "print(front)\n",
    "while coin < 500:\n",
    "    coin = int(input(much))\n",
    "    if coin == 1000:\n",
    "        print(thou)\n",
    "        break\n",
    "    elif coin == 500:\n",
    "        print(five)\n",
    "        break\n",
    "    else:\n",
    "        one_hun += 100\n",
    "        print(\"%d\"%one_hun + one)\n",
    "        if one_hun == 500:\n",
    "            print(five)\n",
    "\n"
   ]
  },
  {
   "cell_type": "code",
   "execution_count": 217,
   "id": "bca35d9d-9ae5-4cc4-be12-93aca1d10509",
   "metadata": {},
   "outputs": [
    {
     "name": "stdout",
     "output_type": "stream",
     "text": [
      "나무를 1번 찍었습니다.\n",
      "나무를 2번 찍었습니다.\n",
      "나무를 3번 찍었습니다.\n",
      "나무를 4번 찍었습니다.\n",
      "나무를 5번 찍었습니다.\n",
      "나무를 6번 찍었습니다.\n",
      "나무를 7번 찍었습니다.\n",
      "나무를 8번 찍었습니다.\n",
      "나무를 9번 찍었습니다.\n",
      "나무를 10번 찍었습니다.\n",
      "나무 넘어갑니다.\n"
     ]
    }
   ],
   "source": [
    ">>> treeHit = 0\n",
    ">>> while treeHit < 10:\n",
    "...     treeHit = treeHit +1\n",
    "...     print(\"나무를 %d번 찍었습니다.\" % treeHit)\n",
    "...     if treeHit == 10:\n",
    "...         print(\"나무 넘어갑니다.\")"
   ]
  },
  {
   "cell_type": "code",
   "execution_count": 218,
   "id": "1b1b63fe-5065-4d75-8daf-fb8550609c16",
   "metadata": {},
   "outputs": [
    {
     "name": "stdout",
     "output_type": "stream",
     "text": [
      "어서오세요 음치노래방입니다\n",
      "\n",
      "500원의 2곡 1000원에 5곡입니다.\n"
     ]
    },
    {
     "name": "stdin",
     "output_type": "stream",
     "text": [
      "얼마를 넣으시겠습니까?\n",
      "coin :  500\n"
     ]
    },
    {
     "name": "stdout",
     "output_type": "stream",
     "text": [
      "500원을 넣으셨습니다. 2곡이 충전됩니다.\n"
     ]
    }
   ],
   "source": [
    "front = \"\"\"어서오세요 음치노래방입니다\\n\n",
    "500원의 2곡 1000원에 5곡입니다.\"\"\"\n",
    "much = '얼마를 넣으시겠습니까?\\ncoin : '\n",
    "thou = '1000원을 넣으셨습니다. 5곡이 충전됩니다.'\n",
    "five = '500원을 넣으셨습니다. 2곡이 충전됩니다.'\n",
    "one = '원을 넣으셨습니다.'\n",
    "one_hun = 0\n",
    "coin = 0\n",
    "print(front)\n",
    "while coin < 500:\n",
    "    coin = int(input(much))\n",
    "    if coin == 1000:\n",
    "        print(thou)\n",
    "        break\n",
    "    elif coin == 500:\n",
    "        print(five)\n",
    "        break\n",
    "    else:\n",
    "        one_hun += 100\n",
    "        print(\"%d\"%one_hun + one)\n",
    "        if one_hun == 500:\n",
    "            print(five)\n"
   ]
  },
  {
   "cell_type": "code",
   "execution_count": 219,
   "id": "fa7f04dc-acf8-4f53-bb4c-4599cac68f4b",
   "metadata": {},
   "outputs": [
    {
     "ename": "FileNotFoundError",
     "evalue": "[Errno 2] No such file or directory: 'members.json'",
     "output_type": "error",
     "traceback": [
      "\u001b[1;31m---------------------------------------------------------------------------\u001b[0m",
      "\u001b[1;31mFileNotFoundError\u001b[0m                         Traceback (most recent call last)",
      "\u001b[1;32m~\\AppData\\Local\\Temp/ipykernel_5928/2907498143.py\u001b[0m in \u001b[0;36m<module>\u001b[1;34m\u001b[0m\n\u001b[0;32m      1\u001b[0m \u001b[1;32mimport\u001b[0m \u001b[0mjson\u001b[0m\u001b[1;33m\u001b[0m\u001b[1;33m\u001b[0m\u001b[0m\n\u001b[0;32m      2\u001b[0m \u001b[1;33m\u001b[0m\u001b[0m\n\u001b[1;32m----> 3\u001b[1;33m \u001b[0mf\u001b[0m \u001b[1;33m=\u001b[0m \u001b[0mopen\u001b[0m\u001b[1;33m(\u001b[0m\u001b[1;34m'members.json'\u001b[0m\u001b[1;33m,\u001b[0m\u001b[1;34m'r'\u001b[0m\u001b[1;33m)\u001b[0m\u001b[1;33m\u001b[0m\u001b[1;33m\u001b[0m\u001b[0m\n\u001b[0m\u001b[0;32m      4\u001b[0m \u001b[0mmembers\u001b[0m\u001b[1;33m=\u001b[0m \u001b[0mjson\u001b[0m\u001b[1;33m.\u001b[0m\u001b[0mload\u001b[0m\u001b[1;33m(\u001b[0m\u001b[0mf\u001b[0m\u001b[1;33m)\u001b[0m\u001b[1;33m\u001b[0m\u001b[1;33m\u001b[0m\u001b[0m\n\u001b[0;32m      5\u001b[0m \u001b[0mf\u001b[0m\u001b[1;33m.\u001b[0m\u001b[0mclose\u001b[0m\u001b[1;33m(\u001b[0m\u001b[1;33m)\u001b[0m\u001b[1;33m\u001b[0m\u001b[1;33m\u001b[0m\u001b[0m\n",
      "\u001b[1;31mFileNotFoundError\u001b[0m: [Errno 2] No such file or directory: 'members.json'"
     ]
    }
   ],
   "source": [
    "import json\n",
    "\n",
    "f = open('members.json','r')\n",
    "members= json.load(f)\n",
    "f.close()\n",
    "\n",
    "\n",
    "while True:\n",
    "    menu = input('회원정보 추가(a), 검색(f), 수정(u), 삭제(d), 목록(s), 종료(x): ')\n",
    "    if menu=='a':\n",
    "        name = input('이름 입력: ')\n",
    "        phone = input('전화번호 입력 ')\n",
    "        members[name] = phone\n",
    "        \n",
    "        print(f'{name} 입력 완료')\n",
    "        print(f'{name}:', phone)\n",
    "        \n",
    "\n",
    "    elif menu=='f':\n",
    "        name = input('검색할 이름 입력: ')\n",
    "        phone = members.get(name, '존재하지 않습니다.')\n",
    "        \n",
    "        print(f'{name}:', phone)\n",
    "        \n",
    "\n",
    "    elif menu=='u':\n",
    "        name = input('수정할 이름 입력: ').title()\n",
    "        if name not in members.keys(): \n",
    "            \n",
    "            print(f'{name} 회원은 존재하지 않습니다.')\n",
    "            \n",
    "            continue \n",
    "        else:\n",
    "            phone = input('새로운 전화번호 입력: ')\n",
    "            members[name] = phone\n",
    "            \n",
    "            print(f\"{name} 수정 완료\")\n",
    "            print(f'{name}:', phone)\n",
    "            \n",
    "\n",
    "    elif menu=='d':\n",
    "        name = input('삭제할 이름 입력: ').title()\n",
    "        if name not in members.keys():\n",
    "            \n",
    "            print(f'{name} 회원은 존재하지 않습니다.')\n",
    "            \n",
    "            continue\n",
    "        else:\n",
    "            del members[name]\n",
    "           \n",
    "            print(f\"{name} 삭제 완료\")\n",
    "          \n",
    "            \n",
    "\n",
    "    elif menu=='s':\n",
    "        \n",
    "        for k, v in members.items(): \n",
    "            print(f'{k}: {v}')\n",
    "        \n",
    "\n",
    "    elif menu=='x':\n",
    "        print('프로그램을 종료합니다.')\n",
    "        f=open('members.json','w')\n",
    "        json.dump(members,f)\n",
    "        f.close()\n",
    "        break \n",
    "        "
   ]
  },
  {
   "cell_type": "code",
   "execution_count": 222,
   "id": "33853e33-ef6d-4660-b2eb-ea93b9479584",
   "metadata": {},
   "outputs": [
    {
     "name": "stdin",
     "output_type": "stream",
     "text": [
      "<졸업자가진단 프로그램>\n",
      "    1. 강의추가 2. 강의수정 3. 강의삭제 4. 졸업가능여부 5. 프로그램 종료 4\n"
     ]
    },
    {
     "ename": "NameError",
     "evalue": "name 'graduated' is not defined",
     "output_type": "error",
     "traceback": [
      "\u001b[1;31m---------------------------------------------------------------------------\u001b[0m",
      "\u001b[1;31mNameError\u001b[0m                                 Traceback (most recent call last)",
      "\u001b[1;32m~\\AppData\\Local\\Temp/ipykernel_5928/1782744123.py\u001b[0m in \u001b[0;36m<module>\u001b[1;34m\u001b[0m\n\u001b[0;32m     36\u001b[0m \u001b[1;33m\u001b[0m\u001b[0m\n\u001b[0;32m     37\u001b[0m     \u001b[1;32melif\u001b[0m \u001b[0mmenu\u001b[0m \u001b[1;33m==\u001b[0m \u001b[1;34m'4'\u001b[0m\u001b[1;33m:\u001b[0m\u001b[1;33m\u001b[0m\u001b[1;33m\u001b[0m\u001b[0m\n\u001b[1;32m---> 38\u001b[1;33m         \u001b[0mtotal\u001b[0m \u001b[1;33m=\u001b[0m \u001b[0msum\u001b[0m\u001b[1;33m(\u001b[0m\u001b[0mgraduated\u001b[0m\u001b[1;33m.\u001b[0m\u001b[0mvalues\u001b[0m\u001b[1;33m(\u001b[0m\u001b[1;33m)\u001b[0m\u001b[1;33m)\u001b[0m\u001b[1;33m\u001b[0m\u001b[1;33m\u001b[0m\u001b[0m\n\u001b[0m\u001b[0;32m     39\u001b[0m         \u001b[1;32mif\u001b[0m \u001b[0mtotal\u001b[0m \u001b[1;33m>=\u001b[0m \u001b[1;36m130\u001b[0m\u001b[1;33m:\u001b[0m\u001b[1;33m\u001b[0m\u001b[1;33m\u001b[0m\u001b[0m\n\u001b[0;32m     40\u001b[0m             \u001b[0mprint\u001b[0m\u001b[1;33m(\u001b[0m\u001b[1;34m'축하합니다! 졸업가능'\u001b[0m\u001b[1;33m)\u001b[0m\u001b[1;33m\u001b[0m\u001b[1;33m\u001b[0m\u001b[0m\n",
      "\u001b[1;31mNameError\u001b[0m: name 'graduated' is not defined"
     ]
    }
   ],
   "source": []
  },
  {
   "cell_type": "code",
   "execution_count": 223,
   "id": "71694c8a-064d-4ff7-b272-2bf306c2e2b2",
   "metadata": {},
   "outputs": [
    {
     "name": "stdin",
     "output_type": "stream",
     "text": [
      "메뉴 \n",
      "1. 입고 \t 2. 출고 \n",
      "3. 현황확인 \t 4. 종료 \n",
      " 메뉴를 선택하세요 >>>  1\n",
      "입고 상품명 :  2\n",
      "해당 상품수 :  1\n"
     ]
    },
    {
     "ename": "NameError",
     "evalue": "name '재고' is not defined",
     "output_type": "error",
     "traceback": [
      "\u001b[1;31m---------------------------------------------------------------------------\u001b[0m",
      "\u001b[1;31mNameError\u001b[0m                                 Traceback (most recent call last)",
      "\u001b[1;32m~\\AppData\\Local\\Temp/ipykernel_5928/3082288728.py\u001b[0m in \u001b[0;36m<module>\u001b[1;34m\u001b[0m\n\u001b[0;32m      6\u001b[0m         \u001b[0ma\u001b[0m \u001b[1;33m=\u001b[0m \u001b[0minput\u001b[0m\u001b[1;33m(\u001b[0m\u001b[1;34m\"입고 상품명 : \"\u001b[0m\u001b[1;33m)\u001b[0m\u001b[1;33m\u001b[0m\u001b[1;33m\u001b[0m\u001b[0m\n\u001b[0;32m      7\u001b[0m         \u001b[0mb\u001b[0m \u001b[1;33m=\u001b[0m \u001b[0mint\u001b[0m\u001b[1;33m(\u001b[0m\u001b[0minput\u001b[0m\u001b[1;33m(\u001b[0m\u001b[1;34m\"해당 상품수 : \"\u001b[0m\u001b[1;33m)\u001b[0m\u001b[1;33m)\u001b[0m\u001b[1;33m\u001b[0m\u001b[1;33m\u001b[0m\u001b[0m\n\u001b[1;32m----> 8\u001b[1;33m         \u001b[1;32mif\u001b[0m \u001b[0ma\u001b[0m \u001b[1;32min\u001b[0m \u001b[0m재고\u001b[0m\u001b[1;33m.\u001b[0m\u001b[0mkeys\u001b[0m\u001b[1;33m(\u001b[0m\u001b[1;33m)\u001b[0m\u001b[1;33m:\u001b[0m\u001b[1;33m\u001b[0m\u001b[1;33m\u001b[0m\u001b[0m\n\u001b[0m\u001b[0;32m      9\u001b[0m             \u001b[0m재고\u001b[0m\u001b[1;33m[\u001b[0m\u001b[0ma\u001b[0m\u001b[1;33m]\u001b[0m \u001b[1;33m+=\u001b[0m \u001b[0mb\u001b[0m\u001b[1;33m\u001b[0m\u001b[1;33m\u001b[0m\u001b[0m\n\u001b[0;32m     10\u001b[0m         \u001b[1;32melse\u001b[0m\u001b[1;33m:\u001b[0m\u001b[1;33m\u001b[0m\u001b[1;33m\u001b[0m\u001b[0m\n",
      "\u001b[1;31mNameError\u001b[0m: name '재고' is not defined"
     ]
    }
   ],
   "source": [
    "stock = {}\n",
    "i = 1\n",
    "while i != 4:\n",
    "    i = int(input(\"메뉴 \\n1. 입고 \\t 2. 출고 \\n3. 현황확인 \\t 4. 종료 \\n 메뉴를 선택하세요 >>> \"))\n",
    "    if i == 1:\n",
    "        a = input(\"입고 상품명 : \")\n",
    "        b = int(input(\"해당 상품수 : \"))\n",
    "        if a in 재고.keys():\n",
    "            재고[a] += b\n",
    "        else:\n",
    "            재고[a] = b\n",
    "        print(\"입고처리됐습니다.\")\n",
    "    elif i ==2:\n",
    "        a = input(\"출고 상품명 : \")\n",
    "        b = int(input(\"출고 상품수 : \"))\n",
    "        if a in 재고:\n",
    "            if 재고[a] >= b:\n",
    "                재고[a] -= b\n",
    "                print(\"상품이 {} 개 출고되었습니다.\".format(b))\n",
    "            elif 재고[a] < b:\n",
    "                print(\"재고가 부족합니다.\")\n",
    "        else:\n",
    "            print(\"해당 상품은 존재하지 않습니다.\")\n",
    "            print(\"현재 재고 현황은 아래와 같습니다\")\n",
    "            for k,v in 재고.items():\n",
    "                print(k,\":\",v)\n",
    "    elif i ==3:\n",
    "        print(\"현재 재고 현황은 아래와 같습니다\")\n",
    "        for k,v in 재고.items():\n",
    "            print(k,\":\",v)\n",
    "    elif i==4:\n",
    "        print(\"종료하겠습니다\")\n",
    "    else:\n",
    "        print(\"잘못된 입력입니다.\")"
   ]
  },
  {
   "cell_type": "code",
   "execution_count": 224,
   "id": "10183410-ebc8-41b8-950a-943be1669f09",
   "metadata": {},
   "outputs": [
    {
     "name": "stdout",
     "output_type": "stream",
     "text": [
      "1번 학생은 합격입니다.\n",
      "2번 학생은 불합격입니다.\n",
      "3번 학생은 합격입니다.\n",
      "4번 학생은 불합격입니다.\n",
      "5번 학생은 합격입니다.\n"
     ]
    }
   ],
   "source": [
    "marks = [90, 25, 67, 45, 80]\n",
    "\n",
    "number = 0 \n",
    "for mark in marks: \n",
    "    number = number +1 \n",
    "    if mark >= 60: \n",
    "        print(\"%d번 학생은 합격입니다.\" % number)\n",
    "    else: \n",
    "        print(\"%d번 학생은 불합격입니다.\" % number)"
   ]
  },
  {
   "cell_type": "raw",
   "id": "578ef09f-2848-41e5-8105-2db0422f3f2b",
   "metadata": {},
   "source": [
    "#콘솔형 고객정보 관리 프로그램\n",
    ".기능\n",
    "고객정보 입력(I), 현재/이전/다음 고객 정보 조회 (C/P/N), 고객정보 수정(U),고객정보 삭제(D), 고객정보 종료(Q)\n",
    "-괄호 안 영문자를 입력하면 각 기능이 구현되게 만든다\n",
    "-종료(Q)를 입력하기전까지 기능 선택 메시지가 계속 뜨도록 만든다\n",
    "-각 기능은 함수로 관리한다\n",
    "-입력된 각 정보는 인덱스 값에 따라 페이지를 가진다\n",
    " ->첫 정보 입력시 인덱스는 0이므로, 입력 전 기본 page 값은 -1로 설정한다 \n",
    "\n",
    "2.입력(I)\n",
    "-dictionary로 각 키의 값을 받고 빈 리스트에 채워나간다\n",
    "-성별(gender): M,m,F,f로만 입력 가능\n",
    " ->소문자로 입력하는 경우 대문자로 자동 변환\n",
    " ->gender 값이 M 또는 F가 아닐경우 다시 입력\n",
    "-이메일(email) :입력값 내 '@'가 반드시 있어야함\n",
    " ->정규표현식 사용\n",
    " ->re를 import 하여 이메일 입력값 내 '@' 존재 여부 파악\n",
    " ->없는 경우 '@'를 포함하라는 문구와 함께 재입력 하도록 함\n",
    " ->중복된 이메일 입력 방지 (key값으로)\n",
    "-출생년도(birthday) :4자리로 입력 해야\n",
    " -len값으로 입력 값의 길이구함\n",
    " ->4자리 아닌경우 재입력 하도록 함 \n",
    "-출생년도까지 입력 완료되었을경우\n",
    " ->키 값 입력이 완료된 customer 딕셔너리를 custlist 리스트에 추가(append)한다\n",
    " ->고객 정보가 새로 입력 되었으므로 page값이 1을더한다 \n",
    "-이름도 받아야함  (upper는 대문자로 바꾸는거임)"
   ]
  },
  {
   "cell_type": "code",
   "execution_count": null,
   "id": "95422973-1cd2-4382-b9af-4a563e1d1c17",
   "metadata": {},
   "outputs": [],
   "source": [
    "import function_customer as fc\n",
    "\n",
    "custlist = []\n",
    "page = 1\n",
    "custlist = [{'name': '홍길동' , 'gender': 'M', 'email': 'hong123@gmail.com', 'birthyear': '1993'}]\n",
    "           [{'name': '김나리' , 'gender': 'F', 'email': 'kim123@gmail.com' , 'birthyear': '1997'}]\n",
    "page = 2\n",
    "while True:\n",
    "    choice=input('''\n",
    "다음 중에서 하실 일을 골라주세요 :\n",
    "I - 입력 C - 현재 P - 이전 N - 다음 U - 수정 D - 삭제 Q - 종료\n",
    ">>>''').upper()\n",
    "    \n",
    "    if choice==\"I\":\n",
    "        customer={'name':'' , 'gender':'','email':'' ,'birthyear':''}\n",
    "        customer['name']=input('이름 >>>')\n",
    "        while True:\n",
    "            customer['gender']=input('성별(M,F) >>> )\n",
    "            if customer['gender' in ('M','F')\n",
    "            break\n",
    "    while True:\n",
    "        while True:\n",
    "            customer['email'=input('email >>>')\n",
    "            if customer['email'].find('@) != 1:\n",
    "                break\n",
    "                                      \n",
    "                                     \n",
    "                                     \n",
    "    \n",
    "    elif choice==\"C\":\n",
    "    elif choice==\"P\":\n",
    "    elif choice==\"N\":   \n",
    "    elif choice==\"U\":\n",
    "    elif choice==\"D\":\n",
    "    elif choice==\"Q\":"
   ]
  }
 ],
 "metadata": {
  "kernelspec": {
   "display_name": "Python 3 (ipykernel)",
   "language": "python",
   "name": "python3"
  },
  "language_info": {
   "codemirror_mode": {
    "name": "ipython",
    "version": 3
   },
   "file_extension": ".py",
   "mimetype": "text/x-python",
   "name": "python",
   "nbconvert_exporter": "python",
   "pygments_lexer": "ipython3",
   "version": "3.9.7"
  }
 },
 "nbformat": 4,
 "nbformat_minor": 5
}
